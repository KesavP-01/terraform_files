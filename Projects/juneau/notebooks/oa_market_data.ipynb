{
 "cells": [
  {
   "cell_type": "markdown",
   "metadata": {
    "application/vnd.databricks.v1+cell": {
     "cellMetadata": {
      "byteLimit": 2048000,
      "rowLimit": 10000
     },
     "inputWidgets": {},
     "nuid": "f1c96e7d-2bdb-46e6-b1d7-330d354d5645",
     "showTitle": false,
     "tableResultSettingsMap": {},
     "title": ""
    }
   },
   "source": [
    "# Setup"
   ]
  },
  {
   "cell_type": "code",
   "execution_count": 0,
   "metadata": {
    "application/vnd.databricks.v1+cell": {
     "cellMetadata": {
      "byteLimit": 2048000,
      "rowLimit": 10000
     },
     "inputWidgets": {},
     "nuid": "d6a04e25-0b95-44e2-9401-4a57a57bfc27",
     "showTitle": true,
     "tableResultSettingsMap": {},
     "title": "imports"
    }
   },
   "outputs": [],
   "source": [
    "%python\n",
    "from pyspark.sql.functions import col\n"
   ]
  },
  {
   "cell_type": "code",
   "execution_count": 0,
   "metadata": {
    "application/vnd.databricks.v1+cell": {
     "cellMetadata": {},
     "inputWidgets": {},
     "nuid": "44ca5945-8122-4a89-80e1-dd2af30eb047",
     "showTitle": true,
     "tableResultSettingsMap": {},
     "title": "env"
    }
   },
   "outputs": [],
   "source": [
    "%python\n",
    "env = dbutils.secrets.get(scope=\"CommercialAnalytics\", key=\"env-databricks\")\n",
    "if env:\n",
    "  db_env = \"_\" + env\n",
    "else:\n",
    "  db_env = \"\""
   ]
  },
  {
   "cell_type": "code",
   "execution_count": 0,
   "metadata": {
    "application/vnd.databricks.v1+cell": {
     "cellMetadata": {},
     "inputWidgets": {},
     "nuid": "c7642cf6-206d-41c9-8e9d-f1c01f83950f",
     "showTitle": true,
     "tableResultSettingsMap": {},
     "title": "set catalog"
    }
   },
   "outputs": [],
   "source": [
    "%python\n",
    "spark.sql(f\"USE business_revenuemanagement{db_env}.an_revenuemanagement_ods\")"
   ]
  },
  {
   "cell_type": "markdown",
   "metadata": {
    "application/vnd.databricks.v1+cell": {
     "cellMetadata": {
      "byteLimit": 2048000,
      "rowLimit": 10000
     },
     "inputWidgets": {},
     "nuid": "337ffa1d-6bab-4c6c-b9e5-f001ff8ec380",
     "showTitle": false,
     "tableResultSettingsMap": {},
     "title": ""
    }
   },
   "source": [
    "# Notes"
   ]
  },
  {
   "cell_type": "markdown",
   "metadata": {
    "application/vnd.databricks.v1+cell": {
     "cellMetadata": {},
     "inputWidgets": {},
     "nuid": "07c04081-f0ee-4ebc-9b11-a6436bdff3eb",
     "showTitle": false,
     "tableResultSettingsMap": {},
     "title": ""
    }
   },
   "source": [
    "- testing cicd"
   ]
  },
  {
   "cell_type": "markdown",
   "metadata": {
    "application/vnd.databricks.v1+cell": {
     "cellMetadata": {
      "byteLimit": 2048000,
      "rowLimit": 10000
     },
     "inputWidgets": {},
     "nuid": "7cadee93-7f15-47b6-a0d9-60e7cd189364",
     "showTitle": false,
     "tableResultSettingsMap": {},
     "title": ""
    }
   },
   "source": [
    "# Shared Temp Tables"
   ]
  },
  {
   "cell_type": "code",
   "execution_count": 0,
   "metadata": {
    "application/vnd.databricks.v1+cell": {
     "cellMetadata": {
      "byteLimit": 2048000,
      "rowLimit": 10000
     },
     "collapsed": true,
     "inputWidgets": {},
     "nuid": "b2f2005d-a305-420a-a59c-9f8f00528a8a",
     "showTitle": true,
     "tableResultSettingsMap": {},
     "title": "cypy_date_map"
    }
   },
   "outputs": [],
   "source": [
    "-- removing PY2 and beyond for now\n",
    "create or replace temp view cypy_date_map as\n",
    "SELECT DISTINCT\n",
    "     CASE\n",
    "     WHEN DATE_FORMAT(date_day, 'MMdd') = '0229' AND DATE_FORMAT(day_last_year, 'MMdd') = '0228' THEN DATE_SUB(date_day, 1)\n",
    "     ELSE date_day\n",
    "     END AS date_day,\n",
    "     CASE\n",
    "     WHEN DATE_FORMAT(date_day, 'MMdd') = '0228' AND DATE_FORMAT(day_last_year, 'MMdd') = '0229' THEN DATE_SUB(day_last_year, 1)\n",
    "     ELSE day_last_year\n",
    "     END AS day_last_year,\n",
    "     cypy,\n",
    "     offset\n",
    "FROM (SELECT date_day,\n",
    "          date_day AS day_last_year,\n",
    "          'CY' AS cypy,\n",
    "          0 AS offset\n",
    "     FROM subject_dimensions.ds_dimensions.date_dim\n",
    "     WHERE date_day BETWEEN DATE_TRUNC('year', ADD_MONTHS(CURRENT_DATE(), -72)) AND DATE_SUB(DATE_TRUNC('month', ADD_MONTHS(CURRENT_DATE(), 12)), 1)\n",
    "     UNION ALL\n",
    "     SELECT ADD_MONTHS(date_day, 12) AS date_day,\n",
    "          date_day AS day_last_year,\n",
    "          'PY' AS cypy,\n",
    "          12 AS offset\n",
    "     FROM subject_dimensions.ds_dimensions.date_dim\n",
    "     WHERE date_day BETWEEN DATE_TRUNC('year', ADD_MONTHS(CURRENT_DATE(), -72)) AND DATE_SUB(DATE_TRUNC('month', ADD_MONTHS(CURRENT_DATE(), 12)), 1)\n",
    "     AND ADD_MONTHS(date_day, 12) <= DATE_SUB(DATE_TRUNC('month', ADD_MONTHS(CURRENT_DATE(), 12)), 1)\n",
    "     -- UNION ALL\n",
    "     -- SELECT ADD_MONTHS(date_day, 24) AS date_day,\n",
    "     --      date_day AS day_last_year,\n",
    "     --      'PY2' AS cypy,\n",
    "     --      24 AS offset\n",
    "     -- FROM subject_dimensions.ds_dimensions.date_dim\n",
    "     -- WHERE date_day BETWEEN DATE_TRUNC('year', ADD_MONTHS(CURRENT_DATE(), -72)) AND DATE_SUB(DATE_TRUNC('month', ADD_MONTHS(CURRENT_DATE(), 12)), 1)\n",
    "     -- AND ADD_MONTHS(date_day, 24) <= DATE_SUB(DATE_TRUNC('month', ADD_MONTHS(CURRENT_DATE(), 12)), 1)\n",
    "     -- UNION ALL\n",
    "     -- SELECT ADD_MONTHS(date_day, 36) AS date_day,\n",
    "     --      date_day AS day_last_year,\n",
    "     --      'PY3' AS cypy,\n",
    "     --      36 AS offset\n",
    "     -- FROM subject_dimensions.ds_dimensions.date_dim\n",
    "     -- WHERE date_day BETWEEN DATE_TRUNC('year', ADD_MONTHS(CURRENT_DATE(), -72)) AND DATE_SUB(DATE_TRUNC('month', ADD_MONTHS(CURRENT_DATE(), 12)), 1)\n",
    "     -- AND ADD_MONTHS(date_day, 36) <= DATE_SUB(DATE_TRUNC('month', ADD_MONTHS(CURRENT_DATE(), 12)), 1)\n",
    "     -- UNION ALL\n",
    "     -- SELECT ADD_MONTHS(date_day, 48) AS date_day,\n",
    "     --      date_day AS day_last_year,\n",
    "     --      'PY4' AS cypy,\n",
    "     --      48 AS offset\n",
    "     -- FROM subject_dimensions.ds_dimensions.date_dim\n",
    "     -- WHERE date_day BETWEEN DATE_TRUNC('year', ADD_MONTHS(CURRENT_DATE(), -72)) AND DATE_SUB(DATE_TRUNC('month', ADD_MONTHS(CURRENT_DATE(), 12)), 1)\n",
    "     -- AND ADD_MONTHS(date_day, 48) <= DATE_SUB(DATE_TRUNC('month', ADD_MONTHS(CURRENT_DATE(), 12)), 1)\n",
    "     )"
   ]
  },
  {
   "cell_type": "code",
   "execution_count": 0,
   "metadata": {
    "application/vnd.databricks.v1+cell": {
     "cellMetadata": {
      "byteLimit": 2048000,
      "rowLimit": 10000
     },
     "inputWidgets": {},
     "nuid": "2a7b2be6-f01f-47b3-9c90-a67ad6e43eea",
     "showTitle": true,
     "tableResultSettingsMap": {},
     "title": "aag_ha_od_list"
    }
   },
   "outputs": [],
   "source": [
    "/* pulling aag od list from cirium schedule fut hist instead of arc dds */\n",
    "create or replace temp view aag_ha_od_list as\n",
    "select distinct od\n",
    "from business_revenuemanagement_test.an_revenuemanagement_ods.rfm_schd_fut_hist_mth\n",
    "where carr_group IN ('AS', 'HA')"
   ]
  },
  {
   "cell_type": "markdown",
   "metadata": {
    "application/vnd.databricks.v1+cell": {
     "cellMetadata": {},
     "inputWidgets": {},
     "nuid": "8e16d2de-cbdf-44a4-a635-419f3f6ced0a",
     "showTitle": false,
     "tableResultSettingsMap": {},
     "title": ""
    }
   },
   "source": [
    "# Build - OA Only"
   ]
  },
  {
   "cell_type": "code",
   "execution_count": 0,
   "metadata": {
    "application/vnd.databricks.v1+cell": {
     "cellMetadata": {
      "byteLimit": 2048000,
      "rowLimit": 10000
     },
     "inputWidgets": {},
     "nuid": "3c40e506-04ec-4df4-bd2f-c1d7fb2cebcd",
     "showTitle": true,
     "tableResultSettingsMap": {},
     "title": "snap shell"
    }
   },
   "outputs": [],
   "source": [
    "create or replace temp view snap_shell as\n",
    "with dd as (\n",
    "  select\n",
    "  date_day as dptr_date\n",
    "from subject_dimensions.ds_dimensions.date_dim\n",
    "where DATE_DAY BETWEEN '2023-01-01' AND date_add(current_date(), 366)\n",
    ")\n",
    ",snap as (\n",
    "  select\n",
    "    sd.date_day as snapshot_date,\n",
    "    dd.dptr_date\n",
    "  from subject_dimensions.ds_dimensions.date_dim sd\n",
    "    cross join dd\n",
    "  where\n",
    "    date_diff(dd.dptr_date, sd.date_day) <= 366\n",
    "    and date_diff(dd.dptr_date, sd.date_day) >= 0\n",
    ")\n",
    ",snap_mth as (\n",
    "  select distinct\n",
    "    snapshot_date,\n",
    "    trunc(dptr_date, 'month') as dptr_month\n",
    "  from snap\n",
    ")\n",
    ",mkts as (\n",
    "  select distinct\n",
    "    'OA' as carr_group,\n",
    "     m.od\n",
    "  from subject_revenue.ds_revenue_dw.arc_dds_ticket_coupon_fact a\n",
    "    join subject_revenue.ds_revenue_dw.market_dim m\n",
    "      on a.market_key = m.market_key\n",
    "    join subject_revenue.ds_revenue_dw.carrier_dim oc\n",
    "      on a.oper_carr_key = oc.carrier_key\n",
    "    join subject_revenue.ds_revenue_dw.carrier_dim mc\n",
    "      on a.mktg_carr_key = mc.carrier_key\n",
    "  where\n",
    "    CASE\n",
    "      WHEN oc.ALN_CD IN ('AS', 'QX', 'VX') THEN 'AS'\n",
    "      WHEN oc.ALN_CD = 'HA' THEN 'HA'\n",
    "      WHEN mc.ALN_CD IN ('AS', 'QX', 'VX', 'HA') AND oc.ALN_CD IN ('OO') THEN 'AS'\n",
    "      WHEN oc.ALN_CD IS NULL AND mc.ALN_CD IN ('AS', 'QX', 'VX') THEN 'AS'\n",
    "      WHEN oc.ALN_CD IS NULL AND mc.ALN_CD IN ('HA') THEN 'HA'\n",
    "      WHEN oc.ALN_CD is null and mc.ALN_CD is null THEN NULL\n",
    "    ELSE 'OA' END = 'OA'\n",
    "    and m.od in (select od from aag_ha_od_list)\n",
    ")\n",
    "select *\n",
    "from snap_mth\n",
    "cross join mkts"
   ]
  },
  {
   "cell_type": "code",
   "execution_count": 0,
   "metadata": {
    "application/vnd.databricks.v1+cell": {
     "cellMetadata": {
      "byteLimit": 2048000,
      "rowLimit": 10000
     },
     "inputWidgets": {},
     "nuid": "4bed871d-6d96-424c-ae4b-097aee878656",
     "showTitle": true,
     "tableResultSettingsMap": {},
     "title": "arc_agg - 330 condensed"
    }
   },
   "outputs": [],
   "source": [
    "create or replace temp view arc_agg as\n",
    "-- combine greater than or equal to 330 DTD into single snapshot date -- beth is doing this for Aircurve to help clean data\n",
    "select\n",
    "    date_add(a.schd_dptr_dt, -330) as snap_dt,\n",
    "    -- a.schd_dptr_dt as dptr_date,\n",
    "    trunc(a.schd_dptr_dt, 'month') as dptr_month,\n",
    "    CASE\n",
    "      WHEN oc.ALN_CD IN ('AS', 'QX', 'VX') THEN 'AS'\n",
    "      WHEN oc.ALN_CD = 'HA' THEN 'HA'\n",
    "      WHEN mc.ALN_CD IN ('AS', 'QX', 'VX', 'HA') AND oc.ALN_CD IN ('OO') THEN 'AS'\n",
    "      WHEN oc.ALN_CD IS NULL AND mc.ALN_CD IN ('AS', 'QX', 'VX') THEN 'AS'\n",
    "      WHEN oc.ALN_CD IS NULL AND mc.ALN_CD IN ('HA') THEN 'HA'\n",
    "      WHEN oc.ALN_CD is null and mc.ALN_CD is null THEN NULL\n",
    "    ELSE 'OA' END AS carr_group,\n",
    "    m.OD,\n",
    "    SUM(CASE WHEN att.arc_transaction_type_cd IN ('R','V','E') THEN -a.MARKET_MILES_AMT ELSE a.MARKET_MILES_AMT END) AS rpm,\n",
    "    SUM(CASE WHEN att.arc_transaction_type_cd IN ('R','V','E') THEN -a.seg_pax_cnt ELSE a.seg_pax_cnt END) AS pax,\n",
    "    SUM(CASE WHEN att.arc_transaction_type_cd IN ('R','V','E') THEN -a.FARE_AMT ELSE a.FARE_AMT END) AS rev\n",
    "  from\n",
    "    subject_revenue.ds_revenue_dw.arc_dds_ticket_coupon_fact a\n",
    "      join subject_revenue.ds_revenue_dw.arc_transaction_type_dim att\n",
    "        on a.arc_transaction_type_key = att.arc_transaction_type_key\n",
    "      join subject_revenue.ds_revenue_dw.market_dim m\n",
    "        on a.market_key = m.market_key\n",
    "      join subject_revenue.ds_revenue_dw.carrier_dim oc\n",
    "        on a.oper_carr_key = oc.carrier_key\n",
    "      join subject_revenue.ds_revenue_dw.carrier_dim mc\n",
    "        on a.mktg_carr_key = mc.carrier_key\n",
    "  where\n",
    "    a.schd_dptr_dt >= '2023-01-01'\n",
    "    and a.schd_dptr_dt <= date_add(current_date(), 366)\n",
    "    and m.od in (select od from aag_ha_od_list) -- only AAG / HA markets\n",
    "    and CASE\n",
    "      WHEN oc.ALN_CD IN ('AS', 'QX', 'VX') THEN 'AS'\n",
    "      WHEN oc.ALN_CD = 'HA' THEN 'HA'\n",
    "      WHEN mc.ALN_CD IN ('AS', 'QX', 'VX', 'HA') AND oc.ALN_CD IN ('OO') THEN 'AS'\n",
    "      WHEN oc.ALN_CD IS NULL AND mc.ALN_CD IN ('AS', 'QX', 'VX') THEN 'AS'\n",
    "      WHEN oc.ALN_CD IS NULL AND mc.ALN_CD IN ('HA') THEN 'HA'\n",
    "      WHEN oc.ALN_CD is null and mc.ALN_CD is null THEN NULL\n",
    "    ELSE 'OA' END = 'OA'\n",
    "    and date_diff(a.schd_dptr_dt, a.source_file_dt) >= 330\n",
    "    and att.arc_transaction_type_cd != 'E' -- robby suggested removing exchanged transactions\n",
    "  group by all\n",
    "union all\n",
    "-- less than 330 DTD\n",
    "select\n",
    "    a.source_file_dt as snap_dt,\n",
    "    -- a.schd_dptr_dt as dptr_date,\n",
    "    trunc(a.schd_dptr_dt, 'month') as dptr_month,\n",
    "    CASE\n",
    "      WHEN oc.ALN_CD IN ('AS', 'QX', 'VX') THEN 'AS'\n",
    "      WHEN oc.ALN_CD = 'HA' THEN 'HA'\n",
    "      WHEN mc.ALN_CD IN ('AS', 'QX', 'VX', 'HA') AND oc.ALN_CD IN ('OO') THEN 'AS'\n",
    "      WHEN oc.ALN_CD IS NULL AND mc.ALN_CD IN ('AS', 'QX', 'VX') THEN 'AS'\n",
    "      WHEN oc.ALN_CD IS NULL AND mc.ALN_CD IN ('HA') THEN 'HA'\n",
    "      WHEN oc.ALN_CD is null and mc.ALN_CD is null THEN NULL\n",
    "    ELSE 'OA' END AS carr_group,\n",
    "    m.OD,\n",
    "    SUM(CASE WHEN att.arc_transaction_type_cd IN ('R','V','E') THEN -a.MARKET_MILES_AMT ELSE a.MARKET_MILES_AMT END) AS rpm,\n",
    "    SUM(CASE WHEN att.arc_transaction_type_cd IN ('R','V','E') THEN -a.seg_pax_cnt ELSE a.seg_pax_cnt END) AS pax,\n",
    "    SUM(CASE WHEN att.arc_transaction_type_cd IN ('R','V','E') THEN -a.FARE_AMT ELSE a.FARE_AMT END) AS rev\n",
    "  from\n",
    "    subject_revenue.ds_revenue_dw.arc_dds_ticket_coupon_fact a\n",
    "      join subject_revenue.ds_revenue_dw.arc_transaction_type_dim att\n",
    "        on a.arc_transaction_type_key = att.arc_transaction_type_key\n",
    "      join subject_revenue.ds_revenue_dw.market_dim m\n",
    "        on a.market_key = m.market_key\n",
    "      join subject_revenue.ds_revenue_dw.carrier_dim oc\n",
    "        on a.oper_carr_key = oc.carrier_key\n",
    "      join subject_revenue.ds_revenue_dw.carrier_dim mc\n",
    "        on a.mktg_carr_key = mc.carrier_key\n",
    "  where\n",
    "    a.schd_dptr_dt >= '2023-01-01'\n",
    "    and a.schd_dptr_dt <= date_add(current_date(), 366)\n",
    "    and m.od in (select od from aag_ha_od_list) -- only AAG / HA markets\n",
    "    and CASE\n",
    "      WHEN oc.ALN_CD IN ('AS', 'QX', 'VX') THEN 'AS'\n",
    "      WHEN oc.ALN_CD = 'HA' THEN 'HA'\n",
    "      WHEN mc.ALN_CD IN ('AS', 'QX', 'VX', 'HA') AND oc.ALN_CD IN ('OO') THEN 'AS'\n",
    "      WHEN oc.ALN_CD IS NULL AND mc.ALN_CD IN ('AS', 'QX', 'VX') THEN 'AS'\n",
    "      WHEN oc.ALN_CD IS NULL AND mc.ALN_CD IN ('HA') THEN 'HA'\n",
    "      WHEN oc.ALN_CD is null and mc.ALN_CD is null THEN NULL\n",
    "    ELSE 'OA' END = 'OA'\n",
    "    and date_diff(a.schd_dptr_dt, a.source_file_dt) < 330\n",
    "    and att.arc_transaction_type_cd != 'E' -- robby suggested removing exchanged transactions\n",
    "  group by all"
   ]
  },
  {
   "cell_type": "code",
   "execution_count": 0,
   "metadata": {
    "application/vnd.databricks.v1+cell": {
     "cellMetadata": {
      "byteLimit": 2048000,
      "rowLimit": 10000
     },
     "inputWidgets": {},
     "nuid": "196c70af-3327-4b93-b400-aa2a3fb8d8c2",
     "showTitle": true,
     "tableResultSettingsMap": {},
     "title": "arc snapshot date"
    }
   },
   "outputs": [],
   "source": [
    "create or replace temp view arc_snap_dt as\n",
    "select\n",
    "  s.snapshot_date,\n",
    "  s.dptr_month,\n",
    "  s.od,\n",
    "  a.od as arc_od,\n",
    "  coalesce(a.RPM, 0) as rpm,\n",
    "  coalesce(a.PAX, 0) as bkg,\n",
    "  coalesce(a.REV, 0) as rev\n",
    "from arc_agg a\n",
    "full outer join snap_shell s\n",
    "  on a.snap_dt = s.snapshot_date\n",
    "  and a.dptr_month = s.dptr_month\n",
    "  and a.od = s.od"
   ]
  },
  {
   "cell_type": "code",
   "execution_count": 0,
   "metadata": {
    "application/vnd.databricks.v1+cell": {
     "cellMetadata": {
      "byteLimit": 2048000,
      "rowLimit": 10000
     },
     "inputWidgets": {},
     "nuid": "52989882-26f9-4d7c-90de-2f4af534f4e8",
     "showTitle": true,
     "tableResultSettingsMap": {},
     "title": "cumulative agg"
    }
   },
   "outputs": [],
   "source": [
    "create or replace temp view arc_cumulative as\n",
    "select\n",
    "  s.*,\n",
    "  sum(rpm) over (\n",
    "      partition by dptr_month, od\n",
    "      order by snapshot_date\n",
    "    ) as rpm_runttl,\n",
    "  sum(bkg) over (\n",
    "      partition by dptr_month, od\n",
    "      order by snapshot_date\n",
    "    ) as bkg_runttl,\n",
    "  sum(rev) over (\n",
    "      partition by dptr_month, od\n",
    "      order by snapshot_date\n",
    "    ) as rev_runttl\n",
    "from arc_snap_dt s"
   ]
  },
  {
   "cell_type": "code",
   "execution_count": 0,
   "metadata": {
    "application/vnd.databricks.v1+cell": {
     "cellMetadata": {
      "byteLimit": 2048000,
      "rowLimit": 10000
     },
     "inputWidgets": {},
     "nuid": "34af4691-eedb-46b7-9160-19eea485be23",
     "showTitle": true,
     "tableResultSettingsMap": {},
     "title": "industry capacity"
    }
   },
   "outputs": [],
   "source": [
    "create or replace temp view ind_cap as\n",
    "select\n",
    "  dptr_month\n",
    "  ,od\n",
    "  ,sum(asm) as asm\n",
    "from business_revenuemanagement_test.an_revenuemanagement_ods.rfm_schd_fut_hist_mth\n",
    "where\n",
    "  carr_group = 'OA'\n",
    "  and od in (select od from aag_ha_od_list) -- only AAG / HA markets\n",
    "group by all"
   ]
  },
  {
   "cell_type": "code",
   "execution_count": 0,
   "metadata": {
    "application/vnd.databricks.v1+cell": {
     "cellMetadata": {
      "byteLimit": 2048000,
      "rowLimit": 10000
     },
     "inputWidgets": {},
     "nuid": "51acf132-8373-4fe8-a553-e6c55b828619",
     "showTitle": true,
     "tableResultSettingsMap": {},
     "title": "arc+industry join"
    }
   },
   "outputs": [],
   "source": [
    "create or replace temp view arc_schd as\n",
    "select\n",
    "  c.snapshot_date\n",
    "  ,c.dptr_month\n",
    "  ,c.od\n",
    "  ,c.arc_od\n",
    "  ,c.rpm as daily_rpm\n",
    "  ,c.bkg as daily_bkg\n",
    "  ,c.rev as daily_rev\n",
    "  ,c.rpm_runttl as rpm\n",
    "  ,c.bkg_runttl as bkg\n",
    "  ,c.rev_runttl as rev\n",
    "  ,coalesce(s.asm, 0) as asm -- industry capacity\n",
    "from arc_cumulative c\n",
    "right outer join ind_cap s -- right join to only include legs from cirium\n",
    "  on s.dptr_month = c.dptr_month\n",
    "  and s.od = c.od\n",
    "where\n",
    "  c.od in (select od from aag_ha_od_list) -- only AAG / HA markets"
   ]
  },
  {
   "cell_type": "code",
   "execution_count": 0,
   "metadata": {
    "application/vnd.databricks.v1+cell": {
     "cellMetadata": {
      "byteLimit": 2048000,
      "rowLimit": 10000
     },
     "inputWidgets": {},
     "nuid": "321c3f31-0db2-4055-8cbf-36b7382c8c6c",
     "showTitle": true,
     "tableResultSettingsMap": {},
     "title": "empty od list"
    }
   },
   "outputs": [],
   "source": [
    "create or replace temp view empty_od as\n",
    "select\n",
    "  concat(od, month(dptr_month)) as od_mth,\n",
    "  sum(bkg),\n",
    "  sum(asm)\n",
    "from arc_schd\n",
    "group by concat(od, month(dptr_month))\n",
    "having sum(bkg) = 0 and sum(asm) = 0"
   ]
  },
  {
   "cell_type": "code",
   "execution_count": 0,
   "metadata": {
    "application/vnd.databricks.v1+cell": {
     "cellMetadata": {
      "byteLimit": 2048000,
      "rowLimit": 10000
     },
     "inputWidgets": {},
     "nuid": "fdbe8619-d426-428a-b9da-503dbe6c09d5",
     "showTitle": true,
     "tableResultSettingsMap": {},
     "title": "clean"
    }
   },
   "outputs": [],
   "source": [
    "create or replace temp view arc_clean as\n",
    "select *\n",
    "from arc_schd\n",
    "where\n",
    "  concat(od, month(dptr_month)) not in (select od_mth from empty_od)"
   ]
  },
  {
   "cell_type": "code",
   "execution_count": 0,
   "metadata": {
    "application/vnd.databricks.v1+cell": {
     "cellMetadata": {
      "byteLimit": 2048000,
      "rowLimit": 10000
     },
     "inputWidgets": {},
     "nuid": "1fb0887e-a225-4edd-9948-ca0ea312d68f",
     "showTitle": true,
     "tableResultSettingsMap": {},
     "title": "cypy"
    }
   },
   "outputs": [],
   "source": [
    "create or replace temp view arc_cypy as\n",
    "SELECT\n",
    "  snapshot_date,\n",
    "  dptr_month,\n",
    "  -- last_year_mmdd, -- only used for fixing leap year dates\n",
    "  od,\n",
    "  cy_dptr_month,\n",
    "  cy_rpm,\n",
    "  cy_bkg,\n",
    "  cy_rev,\n",
    "  cy_asm,\n",
    "  py_dptr_month,\n",
    "  py_rpm,\n",
    "  py_bkg,\n",
    "  py_rev,\n",
    "  py_asm\n",
    "FROM\n",
    "  (\n",
    "    SELECT\n",
    "      m.cypy,\n",
    "      ADD_MONTHS(s.snapshot_date, m.offset) AS snapshot_date,\n",
    "      m.date_day AS dptr_month,\n",
    "      -- DATE_FORMAT(date_day, 'MMdd') AS last_year_mmdd, -- only used for fixing leap year dates\n",
    "      s.od,\n",
    "      m.day_last_year,\n",
    "      s.rpm,\n",
    "      s.bkg,\n",
    "      s.rev,\n",
    "      s.asm\n",
    "    FROM\n",
    "      arc_clean s\n",
    "        JOIN cypy_date_map m\n",
    "          ON m.day_last_year = s.dptr_month\n",
    "    WHERE m.cypy in ('CY', 'PY')\n",
    "  )\n",
    "    PIVOT (\n",
    "      MAX(day_last_year) AS dptr_month,\n",
    "      SUM(rpm) AS rpm,\n",
    "      SUM(bkg) AS bkg,\n",
    "      SUM(rev) AS rev,\n",
    "      SUM(asm) AS asm\n",
    "      FOR cypy IN ('CY' cy, 'PY' py)\n",
    "    )"
   ]
  },
  {
   "cell_type": "code",
   "execution_count": 0,
   "metadata": {
    "application/vnd.databricks.v1+cell": {
     "cellMetadata": {
      "byteLimit": 2048000,
      "rowLimit": 10000
     },
     "inputWidgets": {},
     "nuid": "401f07cc-cc09-4fa0-9ca1-08db7f62789d",
     "showTitle": true,
     "tableResultSettingsMap": {},
     "title": "arc cypy clean"
    }
   },
   "outputs": [],
   "source": [
    "create or replace temp view arc_cypy_clean as\n",
    "SELECT\n",
    "  r.snapshot_date,\n",
    "  r.dptr_month,\n",
    "  r.od,\n",
    "  r.region,\n",
    "  r.orig_lat,\n",
    "  r.orig_long,\n",
    "  r.dest_lat,\n",
    "  r.dest_long,\n",
    "  r.miles,\n",
    "  COALESCE(r.cy_dptr_month, r.dptr_month) AS cy_dptr_month,\n",
    "  r.cy_rpm,\n",
    "  r.cy_bkg,\n",
    "  r.cy_rev,\n",
    "  r.cy_asm,\n",
    "  coalesce(r.py_dptr_month, ADD_MONTHS(r.dptr_month, -12)) as py_dptr_month,\n",
    "  r.py_rpm,\n",
    "  r.py_bkg,\n",
    "  r.py_rev,\n",
    "  r.py_asm\n",
    "FROM\n",
    "  (\n",
    "    SELECT\n",
    "      s.snapshot_date,\n",
    "      s.dptr_month,\n",
    "      s.od,\n",
    "      r.region,\n",
    "      orig_apt.latitude as orig_lat,\n",
    "      orig_apt.longitude as orig_long,\n",
    "      dest_apt.latitude as dest_lat,\n",
    "      dest_apt.longitude as dest_long,\n",
    "      m.miles,\n",
    "      MAX(s.cy_dptr_month) AS cy_dptr_month,\n",
    "      COALESCE(SUM(s.cy_rpm), 0) AS cy_rpm,\n",
    "      COALESCE(SUM(s.cy_bkg), 0) AS cy_bkg,\n",
    "      COALESCE(SUM(s.cy_rev), 0) AS cy_rev,\n",
    "      COALESCE(SUM(s.cy_asm), 0) AS cy_asm,\n",
    "      MAX(s.py_dptr_month) AS py_dptr_month,\n",
    "      COALESCE(SUM(s.py_rpm), 0) AS py_rpm,\n",
    "      COALESCE(SUM(s.py_bkg), 0) AS py_bkg,\n",
    "      COALESCE(SUM(s.py_rev), 0) AS py_rev,\n",
    "      COALESCE(SUM(s.py_asm), 0) AS py_asm\n",
    "    FROM\n",
    "      arc_cypy s\n",
    "        join subject_dimensions.ds_dimensions.market_dim m\n",
    "          on s.od = m.od\n",
    "        left join business_revenuemanagement_qa.an_revenuemanagement_ods.rfm_all_region_assignment r\n",
    "          on m.ndod = r.ndod\n",
    "        join subject_dimensions.ds_dimensions.airport_dim orig_apt\n",
    "          on m.orig = orig_apt.airport_code\n",
    "        join subject_dimensions.ds_dimensions.airport_dim dest_apt\n",
    "          on m.dest = dest_apt.airport_code\n",
    "    GROUP BY ALL\n",
    "  ) r"
   ]
  },
  {
   "cell_type": "code",
   "execution_count": 0,
   "metadata": {
    "application/vnd.databricks.v1+cell": {
     "cellMetadata": {
      "byteLimit": 2048000,
      "rowLimit": 10000
     },
     "inputWidgets": {},
     "nuid": "41a6827c-b21d-4aef-b901-723cc657dedb",
     "showTitle": true,
     "tableResultSettingsMap": {},
     "title": "create table"
    }
   },
   "outputs": [],
   "source": [
    "create or replace table cicd_oa_market_data_test as\n",
    "select *\n",
    "from arc_cypy_clean"
   ]
  }
 ],
 "metadata": {
  "application/vnd.databricks.v1+notebook": {
   "computePreferences": null,
   "dashboards": [],
   "environmentMetadata": {
    "base_environment": "",
    "environment_version": "2"
   },
   "inputWidgetPreferences": null,
   "language": "sql",
   "notebookMetadata": {
    "mostRecentlyExecutedCommandWithImplicitDF": {
     "commandId": -1,
     "dataframes": [
      "_sqldf"
     ]
    },
    "pythonIndentUnit": 2
   },
   "notebookName": "oa_market_data",
   "widgets": {}
  },
  "language_info": {
   "name": "sql"
  }
 },
 "nbformat": 4,
 "nbformat_minor": 0
}
